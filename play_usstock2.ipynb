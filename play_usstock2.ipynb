{
 "cells": [
  {
   "cell_type": "code",
   "execution_count": 3,
   "metadata": {
    "collapsed": true
   },
   "outputs": [],
   "source": [
    "__author__ = 'summit'\n",
    "import json\n",
    "import time\n",
    "import pandas as pd\n",
    "from elasticsearch import Elasticsearch"
   ]
  },
  {
   "cell_type": "code",
   "execution_count": 4,
   "metadata": {
    "collapsed": true
   },
   "outputs": [],
   "source": [
    "INDEX_NAME = 'usstock2'\n",
    "ES_HOST = {\"host\" : \"104.236.193.82\", \"port\" : 9200}\n",
    "es = Elasticsearch(hosts = [ES_HOST])"
   ]
  },
  {
   "cell_type": "code",
   "execution_count": 5,
   "metadata": {
    "collapsed": false
   },
   "outputs": [],
   "source": [
    "# res = es.search(index = INDEX_NAME, size=2, body={\"query\": {\"match_all\": {}}})\n",
    "returnFields = ['symbol','high','low','open','close','volume','timestamp']\n",
    "returnQuery = {\"query\": {\"match_all\": {}}}\n",
    "res = es.search(index = INDEX_NAME, fields = [], body = returnQuery)\n",
    "returnSize = res['hits']['total']\n",
    "res = es.search(index = INDEX_NAME, size = returnSize, fields = returnFields, body = returnQuery)\n",
    "# print(\" response: '%s'\" % (res))"
   ]
  },
  {
   "cell_type": "code",
   "execution_count": 6,
   "metadata": {
    "collapsed": true
   },
   "outputs": [],
   "source": [
    "Data = res['hits']['hits']\n",
    "DF = pd.concat(map(pd.DataFrame.from_dict, Data), axis=1)['fields'].T"
   ]
  },
  {
   "cell_type": "code",
   "execution_count": 7,
   "metadata": {
    "collapsed": false
   },
   "outputs": [
    {
     "name": "stdout",
     "output_type": "stream",
     "text": [
      "           close      high       low      open   symbol     timestamp  \\\n",
      "0           [21]   [21.09]   [20.87]   [21.09]    [CEE]  [2015-03-04]   \n",
      "1       [304.94]  [313.62]  [304.18]  [310.52]     [CF]  [2015-03-04]   \n",
      "2        [60.25]   [60.32]   [60.01]   [60.04]    [CFN]  [2015-03-04]   \n",
      "3         [6.88]    [6.96]    [6.81]    [6.96]    [CGG]  [2015-03-04]   \n",
      "4        [87.75]   [88.25]   [87.75]   [88.25]  [CHK-D]  [2015-03-04]   \n",
      "5        [26.48]   [26.68]   [26.32]   [26.34]   [CHMT]  [2015-03-04]   \n",
      "6        [31.39]   [31.49]   [31.05]   [31.13]    [CHT]  [2015-03-04]   \n",
      "7        [10.15]   [10.23]    [9.93]   [10.16]    [CIE]  [2015-03-04]   \n",
      "8        [15.25]   [15.25]   [15.12]   [15.17]    [CII]  [2015-03-04]   \n",
      "9        [19.06]   [19.52]   [18.82]   [18.93]   [CIVI]  [2015-03-04]   \n",
      "10       [25.38]   [25.41]   [25.38]   [25.41]    [CLA]  [2015-03-04]   \n",
      "11        [6.72]    [6.89]    [6.39]    [6.62]    [CLF]  [2015-03-04]   \n",
      "12      [109.93]  [110.65]  [109.08]  [110.48]    [CLX]  [2015-03-04]   \n",
      "13       [17.31]   [18.12]   [16.68]   [16.87]   [CMCM]  [2015-03-04]   \n",
      "14       [45.11]   [45.42]   [44.44]   [45.24]    [CMN]  [2015-03-04]   \n",
      "15       [26.53]    [26.7]   [26.53]   [26.66]  [CMR-C]  [2015-03-04]   \n",
      "16       [40.82]   [41.61]   [40.74]   [41.55]    [CNA]  [2015-03-04]   \n",
      "17       [68.96]   [69.08]    [67.9]   [68.34]    [CNI]  [2015-03-04]   \n",
      "18       [20.74]   [20.88]   [20.68]   [20.74]    [CNP]  [2015-03-04]   \n",
      "19        [4.65]    [4.85]    [4.62]    [4.84]     [CO]  [2015-03-04]   \n",
      "20       [78.65]   [78.98]   [78.25]   [78.95]    [COF]  [2015-03-04]   \n",
      "21       [28.73]   [29.44]   [28.66]   [29.29]    [COG]  [2015-03-04]   \n",
      "22       [48.15]   [48.68]   [47.55]   [47.58]    [COR]  [2015-03-04]   \n",
      "23        [9.52]    [9.63]    [9.33]    [9.43]   [COUP]  [2015-03-04]   \n",
      "24        [7.45]    [7.54]    [7.11]    [7.26]    [CPE]  [2015-03-04]   \n",
      "25       [46.23]   [46.82]   [46.13]   [46.76]    [CPK]  [2015-03-04]   \n",
      "26       [72.62]   [73.29]   [72.32]   [73.29]    [CPT]  [2015-03-04]   \n",
      "27        [8.64]    [8.83]    [8.64]    [8.76]  [CRD.B]  [2015-03-04]   \n",
      "28       [27.49]   [27.49]   [27.07]   [27.26]    [CRH]  [2015-03-04]   \n",
      "29       [36.91]   [37.12]    [35.3]   [36.89]    [CRR]  [2015-03-04]   \n",
      "...          ...       ...       ...       ...      ...           ...   \n",
      "171578    [6.98]    [7.03]    [6.61]    [6.88]   [CBAY]  [2015-04-01]   \n",
      "171579      [33]   [34.28]   [30.05]   [31.44]   [CBMG]  [2015-04-01]   \n",
      "171580  [150.25]   [151.8]  [148.29]   [151.8]   [CBRL]  [2015-04-01]   \n",
      "171581    [1.17]    [1.18]     [1.1]     [1.1]   [CCCL]  [2015-04-01]   \n",
      "171582   [35.21]    [35.4]   [35.05]   [35.35]   [CCOI]  [2015-04-01]   \n",
      "171583    [7.61]    [7.73]    [7.13]    [7.49]   [CCXI]  [2015-04-01]   \n",
      "171584    [36.2]   [36.25]   [36.13]   [36.25]    [CDC]  [2015-04-01]   \n",
      "171585   [18.39]   [18.48]    [18.2]   [18.44]   [CDNS]  [2015-04-01]   \n",
      "171586   [11.02]   [11.02]   [10.54]    [10.6]   [CECE]  [2015-04-01]   \n",
      "171587   [34.88]   [34.92]   [32.31]   [34.21]   [CEMP]  [2015-04-01]   \n",
      "171588      [73]   [73.27]   [71.94]   [73.27]   [CERN]  [2015-04-01]   \n",
      "171589    [2.62]    [2.66]    [2.62]    [2.65]   [CETV]  [2015-04-01]   \n",
      "171590   [12.45]   [12.67]   [12.33]   [12.51]   [CFFN]  [2015-04-01]   \n",
      "171591    [5.83]    [5.85]    [5.05]    [5.18]   [CFRX]  [2015-04-01]   \n",
      "171592    [7.89]    [8.04]    [7.57]    [8.04]   [CGIX]  [2015-04-01]   \n",
      "171593  [114.94]  [115.94]  [114.03]  [114.81]   [CHDN]  [2015-04-01]   \n",
      "171594   [12.07]    [12.1]    [11.5]   [11.58]   [CHFN]  [2015-04-01]   \n",
      "171595   [26.11]   [28.32]   [26.11]    [28.3]   [CHMG]  [2015-04-01]   \n",
      "171596   [33.72]   [33.91]   [33.14]    [33.8]   [WSTC]  [2015-04-01]   \n",
      "171597      [12]      [12]      [12]      [12]   [WVFC]  [2015-04-01]   \n",
      "171598     [6.1]     [6.1]    [6.05]    [6.08]   [XBKS]  [2015-04-01]   \n",
      "171599    [0.28]    [0.28]    [0.25]    [0.26]   [XGTI]  [2015-04-01]   \n",
      "171600    [6.36]     [6.5]    [6.25]     [6.5]   [XNET]  [2015-04-01]   \n",
      "171601   [13.52]   [13.82]   [13.33]   [13.71]   [XONE]  [2015-04-01]   \n",
      "171602    [12.2]   [12.28]   [11.89]   [12.13]   [XXIA]  [2015-04-01]   \n",
      "171603    [2.07]    [2.32]    [2.04]    [2.32]    [YOD]  [2015-04-01]   \n",
      "171604   [97.29]  [100.26]   [96.35]     [100]      [Z]  [2015-04-01]   \n",
      "171605   [37.68]      [40]   [37.06]   [39.47]   [ZFGN]  [2015-04-01]   \n",
      "171606    [3.69]    [3.77]    [3.69]    [3.72]  [ZIONW]  [2015-04-01]   \n",
      "171607   [10.06]   [10.25]    [9.37]   [10.25]   [ZSAN]  [2015-04-01]   \n",
      "\n",
      "           volume  \n",
      "0         [11800]  \n",
      "1        [648700]  \n",
      "2       [1583800]  \n",
      "3         [17400]  \n",
      "4          [7200]  \n",
      "5        [537800]  \n",
      "6        [197000]  \n",
      "7       [3200900]  \n",
      "8        [120600]  \n",
      "9         [53300]  \n",
      "10         [1000]  \n",
      "11      [8434700]  \n",
      "12       [952100]  \n",
      "13      [1009900]  \n",
      "14       [112200]  \n",
      "15         [9800]  \n",
      "16       [182200]  \n",
      "17       [783200]  \n",
      "18      [3900600]  \n",
      "19       [121500]  \n",
      "20      [2340400]  \n",
      "21      [5799400]  \n",
      "22       [141800]  \n",
      "23       [658900]  \n",
      "24      [1264700]  \n",
      "25        [22300]  \n",
      "26       [440500]  \n",
      "27        [16400]  \n",
      "28       [446000]  \n",
      "29       [410000]  \n",
      "...           ...  \n",
      "171578   [140800]  \n",
      "171579   [188000]  \n",
      "171580   [318100]  \n",
      "171581     [9900]  \n",
      "171582   [367500]  \n",
      "171583   [194600]  \n",
      "171584    [23500]  \n",
      "171585  [3222500]  \n",
      "171586   [105300]  \n",
      "171587   [941500]  \n",
      "171588  [1817000]  \n",
      "171589   [121100]  \n",
      "171590   [603900]  \n",
      "171591   [138400]  \n",
      "171592    [38500]  \n",
      "171593   [169100]  \n",
      "171594    [35300]  \n",
      "171595    [49400]  \n",
      "171596   [449500]  \n",
      "171597      [500]  \n",
      "171598    [17900]  \n",
      "171599   [316500]  \n",
      "171600    [72900]  \n",
      "171601   [133500]  \n",
      "171602   [379100]  \n",
      "171603   [130800]  \n",
      "171604  [1527400]  \n",
      "171605   [244200]  \n",
      "171606     [1300]  \n",
      "171607     [5500]  \n",
      "\n",
      "[171608 rows x 7 columns]\n"
     ]
    }
   ],
   "source": [
    "print DF.reset_index(drop=True)"
   ]
  },
  {
   "cell_type": "code",
   "execution_count": 29,
   "metadata": {
    "collapsed": false
   },
   "outputs": [
    {
     "ename": "ValueError",
     "evalue": "('setting an array element with a sequence.', u'occurred at index close')",
     "output_type": "error",
     "traceback": [
      "\u001b[0;31m---------------------------------------------------------------------------\u001b[0m",
      "\u001b[0;31mValueError\u001b[0m                                Traceback (most recent call last)",
      "\u001b[0;32m<ipython-input-29-8deaca11f05f>\u001b[0m in \u001b[0;36m<module>\u001b[0;34m()\u001b[0m\n\u001b[0;32m----> 1\u001b[0;31m \u001b[0mDF\u001b[0m\u001b[0;34m.\u001b[0m\u001b[0mapply\u001b[0m\u001b[0;34m(\u001b[0m\u001b[0;32mlambda\u001b[0m \u001b[0mx\u001b[0m\u001b[0;34m:\u001b[0m \u001b[0mx\u001b[0m\u001b[0;34m.\u001b[0m\u001b[0mastype\u001b[0m\u001b[0;34m(\u001b[0m\u001b[0;34m'float64'\u001b[0m\u001b[0;34m)\u001b[0m\u001b[0;34m)\u001b[0m\u001b[0;34m\u001b[0m\u001b[0m\n\u001b[0m",
      "\u001b[0;32m/usr/local/lib/python2.7/site-packages/pandas/core/frame.pyc\u001b[0m in \u001b[0;36mapply\u001b[0;34m(self, func, axis, broadcast, raw, reduce, args, **kwds)\u001b[0m\n\u001b[1;32m   3594\u001b[0m                     \u001b[0;32mif\u001b[0m \u001b[0mreduce\u001b[0m \u001b[0;32mis\u001b[0m \u001b[0mNone\u001b[0m\u001b[0;34m:\u001b[0m\u001b[0;34m\u001b[0m\u001b[0m\n\u001b[1;32m   3595\u001b[0m                         \u001b[0mreduce\u001b[0m \u001b[0;34m=\u001b[0m \u001b[0mTrue\u001b[0m\u001b[0;34m\u001b[0m\u001b[0m\n\u001b[0;32m-> 3596\u001b[0;31m                     \u001b[0;32mreturn\u001b[0m \u001b[0mself\u001b[0m\u001b[0;34m.\u001b[0m\u001b[0m_apply_standard\u001b[0m\u001b[0;34m(\u001b[0m\u001b[0mf\u001b[0m\u001b[0;34m,\u001b[0m \u001b[0maxis\u001b[0m\u001b[0;34m,\u001b[0m \u001b[0mreduce\u001b[0m\u001b[0;34m=\u001b[0m\u001b[0mreduce\u001b[0m\u001b[0;34m)\u001b[0m\u001b[0;34m\u001b[0m\u001b[0m\n\u001b[0m\u001b[1;32m   3597\u001b[0m             \u001b[0;32melse\u001b[0m\u001b[0;34m:\u001b[0m\u001b[0;34m\u001b[0m\u001b[0m\n\u001b[1;32m   3598\u001b[0m                 \u001b[0;32mreturn\u001b[0m \u001b[0mself\u001b[0m\u001b[0;34m.\u001b[0m\u001b[0m_apply_broadcast\u001b[0m\u001b[0;34m(\u001b[0m\u001b[0mf\u001b[0m\u001b[0;34m,\u001b[0m \u001b[0maxis\u001b[0m\u001b[0;34m)\u001b[0m\u001b[0;34m\u001b[0m\u001b[0m\n",
      "\u001b[0;32m/usr/local/lib/python2.7/site-packages/pandas/core/frame.pyc\u001b[0m in \u001b[0;36m_apply_standard\u001b[0;34m(self, func, axis, ignore_failures, reduce)\u001b[0m\n\u001b[1;32m   3684\u001b[0m             \u001b[0;32mtry\u001b[0m\u001b[0;34m:\u001b[0m\u001b[0;34m\u001b[0m\u001b[0m\n\u001b[1;32m   3685\u001b[0m                 \u001b[0;32mfor\u001b[0m \u001b[0mi\u001b[0m\u001b[0;34m,\u001b[0m \u001b[0mv\u001b[0m \u001b[0;32min\u001b[0m \u001b[0menumerate\u001b[0m\u001b[0;34m(\u001b[0m\u001b[0mseries_gen\u001b[0m\u001b[0;34m)\u001b[0m\u001b[0;34m:\u001b[0m\u001b[0;34m\u001b[0m\u001b[0m\n\u001b[0;32m-> 3686\u001b[0;31m                     \u001b[0mresults\u001b[0m\u001b[0;34m[\u001b[0m\u001b[0mi\u001b[0m\u001b[0;34m]\u001b[0m \u001b[0;34m=\u001b[0m \u001b[0mfunc\u001b[0m\u001b[0;34m(\u001b[0m\u001b[0mv\u001b[0m\u001b[0;34m)\u001b[0m\u001b[0;34m\u001b[0m\u001b[0m\n\u001b[0m\u001b[1;32m   3687\u001b[0m                     \u001b[0mkeys\u001b[0m\u001b[0;34m.\u001b[0m\u001b[0mappend\u001b[0m\u001b[0;34m(\u001b[0m\u001b[0mv\u001b[0m\u001b[0;34m.\u001b[0m\u001b[0mname\u001b[0m\u001b[0;34m)\u001b[0m\u001b[0;34m\u001b[0m\u001b[0m\n\u001b[1;32m   3688\u001b[0m             \u001b[0;32mexcept\u001b[0m \u001b[0mException\u001b[0m \u001b[0;32mas\u001b[0m \u001b[0me\u001b[0m\u001b[0;34m:\u001b[0m\u001b[0;34m\u001b[0m\u001b[0m\n",
      "\u001b[0;32m<ipython-input-29-8deaca11f05f>\u001b[0m in \u001b[0;36m<lambda>\u001b[0;34m(x)\u001b[0m\n\u001b[0;32m----> 1\u001b[0;31m \u001b[0mDF\u001b[0m\u001b[0;34m.\u001b[0m\u001b[0mapply\u001b[0m\u001b[0;34m(\u001b[0m\u001b[0;32mlambda\u001b[0m \u001b[0mx\u001b[0m\u001b[0;34m:\u001b[0m \u001b[0mx\u001b[0m\u001b[0;34m.\u001b[0m\u001b[0mastype\u001b[0m\u001b[0;34m(\u001b[0m\u001b[0;34m'float64'\u001b[0m\u001b[0;34m)\u001b[0m\u001b[0;34m)\u001b[0m\u001b[0;34m\u001b[0m\u001b[0m\n\u001b[0m",
      "\u001b[0;32m/usr/local/lib/python2.7/site-packages/pandas/core/generic.pyc\u001b[0m in \u001b[0;36mastype\u001b[0;34m(self, dtype, copy, raise_on_error)\u001b[0m\n\u001b[1;32m   2212\u001b[0m \u001b[0;34m\u001b[0m\u001b[0m\n\u001b[1;32m   2213\u001b[0m         mgr = self._data.astype(\n\u001b[0;32m-> 2214\u001b[0;31m             dtype=dtype, copy=copy, raise_on_error=raise_on_error)\n\u001b[0m\u001b[1;32m   2215\u001b[0m         \u001b[0;32mreturn\u001b[0m \u001b[0mself\u001b[0m\u001b[0;34m.\u001b[0m\u001b[0m_constructor\u001b[0m\u001b[0;34m(\u001b[0m\u001b[0mmgr\u001b[0m\u001b[0;34m)\u001b[0m\u001b[0;34m.\u001b[0m\u001b[0m__finalize__\u001b[0m\u001b[0;34m(\u001b[0m\u001b[0mself\u001b[0m\u001b[0;34m)\u001b[0m\u001b[0;34m\u001b[0m\u001b[0m\n\u001b[1;32m   2216\u001b[0m \u001b[0;34m\u001b[0m\u001b[0m\n",
      "\u001b[0;32m/usr/local/lib/python2.7/site-packages/pandas/core/internals.pyc\u001b[0m in \u001b[0;36mastype\u001b[0;34m(self, dtype, **kwargs)\u001b[0m\n\u001b[1;32m   2500\u001b[0m \u001b[0;34m\u001b[0m\u001b[0m\n\u001b[1;32m   2501\u001b[0m     \u001b[0;32mdef\u001b[0m \u001b[0mastype\u001b[0m\u001b[0;34m(\u001b[0m\u001b[0mself\u001b[0m\u001b[0;34m,\u001b[0m \u001b[0mdtype\u001b[0m\u001b[0;34m,\u001b[0m \u001b[0;34m**\u001b[0m\u001b[0mkwargs\u001b[0m\u001b[0;34m)\u001b[0m\u001b[0;34m:\u001b[0m\u001b[0;34m\u001b[0m\u001b[0m\n\u001b[0;32m-> 2502\u001b[0;31m         \u001b[0;32mreturn\u001b[0m \u001b[0mself\u001b[0m\u001b[0;34m.\u001b[0m\u001b[0mapply\u001b[0m\u001b[0;34m(\u001b[0m\u001b[0;34m'astype'\u001b[0m\u001b[0;34m,\u001b[0m \u001b[0mdtype\u001b[0m\u001b[0;34m=\u001b[0m\u001b[0mdtype\u001b[0m\u001b[0;34m,\u001b[0m \u001b[0;34m**\u001b[0m\u001b[0mkwargs\u001b[0m\u001b[0;34m)\u001b[0m\u001b[0;34m\u001b[0m\u001b[0m\n\u001b[0m\u001b[1;32m   2503\u001b[0m \u001b[0;34m\u001b[0m\u001b[0m\n\u001b[1;32m   2504\u001b[0m     \u001b[0;32mdef\u001b[0m \u001b[0mconvert\u001b[0m\u001b[0;34m(\u001b[0m\u001b[0mself\u001b[0m\u001b[0;34m,\u001b[0m \u001b[0;34m**\u001b[0m\u001b[0mkwargs\u001b[0m\u001b[0;34m)\u001b[0m\u001b[0;34m:\u001b[0m\u001b[0;34m\u001b[0m\u001b[0m\n",
      "\u001b[0;32m/usr/local/lib/python2.7/site-packages/pandas/core/internals.pyc\u001b[0m in \u001b[0;36mapply\u001b[0;34m(self, f, axes, filter, do_integrity_check, **kwargs)\u001b[0m\n\u001b[1;32m   2455\u001b[0m                                                  copy=align_copy)\n\u001b[1;32m   2456\u001b[0m \u001b[0;34m\u001b[0m\u001b[0m\n\u001b[0;32m-> 2457\u001b[0;31m             \u001b[0mapplied\u001b[0m \u001b[0;34m=\u001b[0m \u001b[0mgetattr\u001b[0m\u001b[0;34m(\u001b[0m\u001b[0mb\u001b[0m\u001b[0;34m,\u001b[0m \u001b[0mf\u001b[0m\u001b[0;34m)\u001b[0m\u001b[0;34m(\u001b[0m\u001b[0;34m**\u001b[0m\u001b[0mkwargs\u001b[0m\u001b[0;34m)\u001b[0m\u001b[0;34m\u001b[0m\u001b[0m\n\u001b[0m\u001b[1;32m   2458\u001b[0m \u001b[0;34m\u001b[0m\u001b[0m\n\u001b[1;32m   2459\u001b[0m             \u001b[0;32mif\u001b[0m \u001b[0misinstance\u001b[0m\u001b[0;34m(\u001b[0m\u001b[0mapplied\u001b[0m\u001b[0;34m,\u001b[0m \u001b[0mlist\u001b[0m\u001b[0;34m)\u001b[0m\u001b[0;34m:\u001b[0m\u001b[0;34m\u001b[0m\u001b[0m\n",
      "\u001b[0;32m/usr/local/lib/python2.7/site-packages/pandas/core/internals.pyc\u001b[0m in \u001b[0;36mastype\u001b[0;34m(self, dtype, copy, raise_on_error, values)\u001b[0m\n\u001b[1;32m    369\u001b[0m     \u001b[0;32mdef\u001b[0m \u001b[0mastype\u001b[0m\u001b[0;34m(\u001b[0m\u001b[0mself\u001b[0m\u001b[0;34m,\u001b[0m \u001b[0mdtype\u001b[0m\u001b[0;34m,\u001b[0m \u001b[0mcopy\u001b[0m\u001b[0;34m=\u001b[0m\u001b[0mFalse\u001b[0m\u001b[0;34m,\u001b[0m \u001b[0mraise_on_error\u001b[0m\u001b[0;34m=\u001b[0m\u001b[0mTrue\u001b[0m\u001b[0;34m,\u001b[0m \u001b[0mvalues\u001b[0m\u001b[0;34m=\u001b[0m\u001b[0mNone\u001b[0m\u001b[0;34m)\u001b[0m\u001b[0;34m:\u001b[0m\u001b[0;34m\u001b[0m\u001b[0m\n\u001b[1;32m    370\u001b[0m         return self._astype(dtype, copy=copy, raise_on_error=raise_on_error,\n\u001b[0;32m--> 371\u001b[0;31m                             values=values)\n\u001b[0m\u001b[1;32m    372\u001b[0m \u001b[0;34m\u001b[0m\u001b[0m\n\u001b[1;32m    373\u001b[0m     def _astype(self, dtype, copy=False, raise_on_error=True, values=None,\n",
      "\u001b[0;32m/usr/local/lib/python2.7/site-packages/pandas/core/internals.pyc\u001b[0m in \u001b[0;36m_astype\u001b[0;34m(self, dtype, copy, raise_on_error, values, klass)\u001b[0m\n\u001b[1;32m    399\u001b[0m             \u001b[0;32mif\u001b[0m \u001b[0mvalues\u001b[0m \u001b[0;32mis\u001b[0m \u001b[0mNone\u001b[0m\u001b[0;34m:\u001b[0m\u001b[0;34m\u001b[0m\u001b[0m\n\u001b[1;32m    400\u001b[0m                 \u001b[0;31m# _astype_nansafe works fine with 1-d only\u001b[0m\u001b[0;34m\u001b[0m\u001b[0;34m\u001b[0m\u001b[0m\n\u001b[0;32m--> 401\u001b[0;31m                 \u001b[0mvalues\u001b[0m \u001b[0;34m=\u001b[0m \u001b[0mcom\u001b[0m\u001b[0;34m.\u001b[0m\u001b[0m_astype_nansafe\u001b[0m\u001b[0;34m(\u001b[0m\u001b[0mself\u001b[0m\u001b[0;34m.\u001b[0m\u001b[0mvalues\u001b[0m\u001b[0;34m.\u001b[0m\u001b[0mravel\u001b[0m\u001b[0;34m(\u001b[0m\u001b[0;34m)\u001b[0m\u001b[0;34m,\u001b[0m \u001b[0mdtype\u001b[0m\u001b[0;34m,\u001b[0m \u001b[0mcopy\u001b[0m\u001b[0;34m=\u001b[0m\u001b[0mTrue\u001b[0m\u001b[0;34m)\u001b[0m\u001b[0;34m\u001b[0m\u001b[0m\n\u001b[0m\u001b[1;32m    402\u001b[0m                 \u001b[0mvalues\u001b[0m \u001b[0;34m=\u001b[0m \u001b[0mvalues\u001b[0m\u001b[0;34m.\u001b[0m\u001b[0mreshape\u001b[0m\u001b[0;34m(\u001b[0m\u001b[0mself\u001b[0m\u001b[0;34m.\u001b[0m\u001b[0mvalues\u001b[0m\u001b[0;34m.\u001b[0m\u001b[0mshape\u001b[0m\u001b[0;34m)\u001b[0m\u001b[0;34m\u001b[0m\u001b[0m\n\u001b[1;32m    403\u001b[0m             newb = make_block(values,\n",
      "\u001b[0;32m/usr/local/lib/python2.7/site-packages/pandas/core/common.pyc\u001b[0m in \u001b[0;36m_astype_nansafe\u001b[0;34m(arr, dtype, copy)\u001b[0m\n\u001b[1;32m   2627\u001b[0m \u001b[0;34m\u001b[0m\u001b[0m\n\u001b[1;32m   2628\u001b[0m     \u001b[0;32mif\u001b[0m \u001b[0mcopy\u001b[0m\u001b[0;34m:\u001b[0m\u001b[0;34m\u001b[0m\u001b[0m\n\u001b[0;32m-> 2629\u001b[0;31m         \u001b[0;32mreturn\u001b[0m \u001b[0marr\u001b[0m\u001b[0;34m.\u001b[0m\u001b[0mastype\u001b[0m\u001b[0;34m(\u001b[0m\u001b[0mdtype\u001b[0m\u001b[0;34m)\u001b[0m\u001b[0;34m\u001b[0m\u001b[0m\n\u001b[0m\u001b[1;32m   2630\u001b[0m     \u001b[0;32mreturn\u001b[0m \u001b[0marr\u001b[0m\u001b[0;34m.\u001b[0m\u001b[0mview\u001b[0m\u001b[0;34m(\u001b[0m\u001b[0mdtype\u001b[0m\u001b[0;34m)\u001b[0m\u001b[0;34m\u001b[0m\u001b[0m\n\u001b[1;32m   2631\u001b[0m \u001b[0;34m\u001b[0m\u001b[0m\n",
      "\u001b[0;31mValueError\u001b[0m: ('setting an array element with a sequence.', u'occurred at index close')"
     ]
    }
   ],
   "source": [
    "DF.apply(lambda x: x.astype('float64'))"
   ]
  },
  {
   "cell_type": "code",
   "execution_count": 31,
   "metadata": {
    "collapsed": false
   },
   "outputs": [
    {
     "data": {
      "text/plain": [
       "171608"
      ]
     },
     "execution_count": 31,
     "metadata": {},
     "output_type": "execute_result"
    }
   ],
   "source": [
    "returnSize"
   ]
  },
  {
   "cell_type": "code",
   "execution_count": null,
   "metadata": {
    "collapsed": true
   },
   "outputs": [],
   "source": []
  }
 ],
 "metadata": {
  "kernelspec": {
   "display_name": "Python 2",
   "language": "python",
   "name": "python2"
  },
  "language_info": {
   "codemirror_mode": {
    "name": "ipython",
    "version": 2
   },
   "file_extension": ".py",
   "mimetype": "text/x-python",
   "name": "python",
   "nbconvert_exporter": "python",
   "pygments_lexer": "ipython2",
   "version": "2.7.9"
  }
 },
 "nbformat": 4,
 "nbformat_minor": 0
}
